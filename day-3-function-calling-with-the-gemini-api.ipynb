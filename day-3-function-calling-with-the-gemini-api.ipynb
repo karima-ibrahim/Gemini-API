{
 "cells": [
  {
   "cell_type": "code",
   "execution_count": 1,
   "id": "ed4bf33d",
   "metadata": {
    "_cell_guid": "b1076dfc-b9ad-4769-8c92-a6c4dae69d19",
    "_uuid": "8f2839f25d086af736a60e9eeb907d3b93b6e0e5",
    "execution": {
     "iopub.execute_input": "2024-11-15T19:27:50.212131Z",
     "iopub.status.busy": "2024-11-15T19:27:50.211686Z",
     "iopub.status.idle": "2024-11-15T19:27:51.132188Z",
     "shell.execute_reply": "2024-11-15T19:27:51.131014Z"
    },
    "papermill": {
     "duration": 0.932796,
     "end_time": "2024-11-15T19:27:51.135044",
     "exception": false,
     "start_time": "2024-11-15T19:27:50.202248",
     "status": "completed"
    },
    "tags": []
   },
   "outputs": [],
   "source": [
    "# This Python 3 environment comes with many helpful analytics libraries installed\n",
    "# It is defined by the kaggle/python Docker image: https://github.com/kaggle/docker-python\n",
    "# For example, here's several helpful packages to load\n",
    "\n",
    "import numpy as np # linear algebra\n",
    "import pandas as pd # data processing, CSV file I/O (e.g. pd.read_csv)\n",
    "\n",
    "# Input data files are available in the read-only \"../input/\" directory\n",
    "# For example, running this (by clicking run or pressing Shift+Enter) will list all files under the input directory\n",
    "\n",
    "import os\n",
    "for dirname, _, filenames in os.walk('/kaggle/input'):\n",
    "    for filename in filenames:\n",
    "        print(os.path.join(dirname, filename))\n",
    "\n",
    "# You can write up to 20GB to the current directory (/kaggle/working/) that gets preserved as output when you create a version using \"Save & Run All\" \n",
    "# You can also write temporary files to /kaggle/temp/, but they won't be saved outside of the current session"
   ]
  },
  {
   "cell_type": "code",
   "execution_count": 2,
   "id": "2ee15381",
   "metadata": {
    "execution": {
     "iopub.execute_input": "2024-11-15T19:27:51.151168Z",
     "iopub.status.busy": "2024-11-15T19:27:51.150592Z",
     "iopub.status.idle": "2024-11-15T19:28:21.686065Z",
     "shell.execute_reply": "2024-11-15T19:28:21.684842Z"
    },
    "papermill": {
     "duration": 30.547017,
     "end_time": "2024-11-15T19:28:21.689217",
     "exception": false,
     "start_time": "2024-11-15T19:27:51.142200",
     "status": "completed"
    },
    "tags": []
   },
   "outputs": [
    {
     "name": "stdout",
     "output_type": "stream",
     "text": [
      "Note: you may need to restart the kernel to use updated packages.\n"
     ]
    }
   ],
   "source": [
    "#  installing and importing the Python SDK\n",
    "%pip install -q -U 'google-generativeai>=0.8.3'\n",
    "import google.generativeai as genai"
   ]
  },
  {
   "cell_type": "code",
   "execution_count": 3,
   "id": "7480eb5f",
   "metadata": {
    "execution": {
     "iopub.execute_input": "2024-11-15T19:28:21.705395Z",
     "iopub.status.busy": "2024-11-15T19:28:21.704738Z",
     "iopub.status.idle": "2024-11-15T19:28:21.851563Z",
     "shell.execute_reply": "2024-11-15T19:28:21.850560Z"
    },
    "papermill": {
     "duration": 0.157784,
     "end_time": "2024-11-15T19:28:21.854219",
     "exception": false,
     "start_time": "2024-11-15T19:28:21.696435",
     "status": "completed"
    },
    "tags": []
   },
   "outputs": [],
   "source": [
    "# Set up API key\n",
    "from kaggle_secrets import UserSecretsClient\n",
    "\n",
    "GOOGLE_API_KEY = UserSecretsClient().get_secret(\"GOOGLE_API_KEY\")\n",
    "genai.configure(api_key=GOOGLE_API_KEY)"
   ]
  },
  {
   "cell_type": "markdown",
   "id": "f8273c9e",
   "metadata": {
    "papermill": {
     "duration": 0.007016,
     "end_time": "2024-11-15T19:28:21.868425",
     "exception": false,
     "start_time": "2024-11-15T19:28:21.861409",
     "status": "completed"
    },
    "tags": []
   },
   "source": [
    "# Create a local database\n",
    "\n",
    "For this minimal example, you'll create a local SQLite database and add some synthetic data so you have something to query.\n",
    "\n",
    "Load the sql IPython extension so you can interact with the database using magic commands (the % instructions) to create a new, empty SQLite database.\n"
   ]
  },
  {
   "cell_type": "code",
   "execution_count": 4,
   "id": "a9921730",
   "metadata": {
    "execution": {
     "iopub.execute_input": "2024-11-15T19:28:21.884341Z",
     "iopub.status.busy": "2024-11-15T19:28:21.883885Z",
     "iopub.status.idle": "2024-11-15T19:28:22.736766Z",
     "shell.execute_reply": "2024-11-15T19:28:22.735776Z"
    },
    "papermill": {
     "duration": 0.863956,
     "end_time": "2024-11-15T19:28:22.739437",
     "exception": false,
     "start_time": "2024-11-15T19:28:21.875481",
     "status": "completed"
    },
    "tags": []
   },
   "outputs": [],
   "source": [
    "%load_ext sql\n",
    "%sql sqlite:///sample.db"
   ]
  },
  {
   "cell_type": "markdown",
   "id": "49288b8a",
   "metadata": {
    "papermill": {
     "duration": 0.006665,
     "end_time": "2024-11-15T19:28:22.753102",
     "exception": false,
     "start_time": "2024-11-15T19:28:22.746437",
     "status": "completed"
    },
    "tags": []
   },
   "source": [
    "# Create the tables and insert some synthetic data"
   ]
  },
  {
   "cell_type": "code",
   "execution_count": 5,
   "id": "6be7151a",
   "metadata": {
    "execution": {
     "iopub.execute_input": "2024-11-15T19:28:22.768732Z",
     "iopub.status.busy": "2024-11-15T19:28:22.768313Z",
     "iopub.status.idle": "2024-11-15T19:28:22.856515Z",
     "shell.execute_reply": "2024-11-15T19:28:22.855324Z"
    },
    "papermill": {
     "duration": 0.099258,
     "end_time": "2024-11-15T19:28:22.859329",
     "exception": false,
     "start_time": "2024-11-15T19:28:22.760071",
     "status": "completed"
    },
    "tags": []
   },
   "outputs": [
    {
     "name": "stdout",
     "output_type": "stream",
     "text": [
      " * sqlite:///sample.db\n",
      "Done.\n",
      "Done.\n",
      "Done.\n",
      "3 rows affected.\n",
      "3 rows affected.\n",
      "3 rows affected.\n"
     ]
    },
    {
     "data": {
      "text/plain": [
       "[]"
      ]
     },
     "execution_count": 5,
     "metadata": {},
     "output_type": "execute_result"
    }
   ],
   "source": [
    "%%sql\n",
    "-- Create the 'products' table\n",
    "CREATE TABLE IF NOT EXISTS products (\n",
    "  \tproduct_id INTEGER PRIMARY KEY AUTOINCREMENT,\n",
    "  \tproduct_name VARCHAR(255) NOT NULL,\n",
    "  \tprice DECIMAL(10, 2) NOT NULL\n",
    "  );\n",
    "\n",
    "-- Create the 'staff' table\n",
    "CREATE TABLE IF NOT EXISTS staff (\n",
    "  \tstaff_id INTEGER PRIMARY KEY AUTOINCREMENT,\n",
    "  \tfirst_name VARCHAR(255) NOT NULL,\n",
    "  \tlast_name VARCHAR(255) NOT NULL\n",
    "  );\n",
    "\n",
    "-- Create the 'orders' table\n",
    "CREATE TABLE IF NOT EXISTS orders (\n",
    "  \torder_id INTEGER PRIMARY KEY AUTOINCREMENT,\n",
    "  \tcustomer_name VARCHAR(255) NOT NULL,\n",
    "  \tstaff_id INTEGER NOT NULL,\n",
    "  \tproduct_id INTEGER NOT NULL,\n",
    "  \tFOREIGN KEY (staff_id) REFERENCES staff (staff_id),\n",
    "  \tFOREIGN KEY (product_id) REFERENCES products (product_id)\n",
    "  );\n",
    "\n",
    "-- Insert data into the 'products' table\n",
    "INSERT INTO products (product_name, price) VALUES\n",
    "  \t('Laptop', 799.99),\n",
    "  \t('Keyboard', 129.99),\n",
    "  \t('Mouse', 29.99);\n",
    "\n",
    "-- Insert data into the 'staff' table\n",
    "INSERT INTO staff (first_name, last_name) VALUES\n",
    "  \t('Alice', 'Smith'),\n",
    "  \t('Bob', 'Johnson'),\n",
    "  \t('Charlie', 'Williams');\n",
    "\n",
    "-- Insert data into the 'orders' table\n",
    "INSERT INTO orders (customer_name, staff_id, product_id) VALUES\n",
    "  \t('David Lee', 1, 1),\n",
    "  \t('Emily Chen', 2, 2),\n",
    "  \t('Frank Brown', 1, 3);"
   ]
  },
  {
   "cell_type": "markdown",
   "id": "6640beae",
   "metadata": {
    "papermill": {
     "duration": 0.006812,
     "end_time": "2024-11-15T19:28:22.874291",
     "exception": false,
     "start_time": "2024-11-15T19:28:22.867479",
     "status": "completed"
    },
    "tags": []
   },
   "source": [
    "## Define database functions\n",
    "\n",
    "Function calling with Gemini API's Python SDK can be implemented by defining an OpenAPI schema that is passed to the model. Alternatively you can define Python functions and let the SDK inspect them to automatically define the schema. In this latter case, it's important that the functions are type annotated and have accurate docstrings that describe what the functions do - the model has no insight into the function body, so the docs function as the interface.\n",
    "\n",
    "By providing three key pieces of functionality - listing tables, describing a table, and executing a query - the LLM (or even another user) will have the basic tools needed to understand and interrogate the database.\n",
    "\n",
    "Start with a database connection that will be used across all of the functions.\n"
   ]
  },
  {
   "cell_type": "code",
   "execution_count": 6,
   "id": "366fd676",
   "metadata": {
    "execution": {
     "iopub.execute_input": "2024-11-15T19:28:22.890282Z",
     "iopub.status.busy": "2024-11-15T19:28:22.889856Z",
     "iopub.status.idle": "2024-11-15T19:28:22.895129Z",
     "shell.execute_reply": "2024-11-15T19:28:22.894104Z"
    },
    "papermill": {
     "duration": 0.016136,
     "end_time": "2024-11-15T19:28:22.897524",
     "exception": false,
     "start_time": "2024-11-15T19:28:22.881388",
     "status": "completed"
    },
    "tags": []
   },
   "outputs": [],
   "source": [
    "import sqlite3\n",
    "\n",
    "db_file = \"sample.db\"\n",
    "db_conn = sqlite3.connect(db_file)"
   ]
  },
  {
   "cell_type": "code",
   "execution_count": 7,
   "id": "7ffa713c",
   "metadata": {
    "execution": {
     "iopub.execute_input": "2024-11-15T19:28:22.913820Z",
     "iopub.status.busy": "2024-11-15T19:28:22.913383Z",
     "iopub.status.idle": "2024-11-15T19:28:22.923590Z",
     "shell.execute_reply": "2024-11-15T19:28:22.922511Z"
    },
    "papermill": {
     "duration": 0.021249,
     "end_time": "2024-11-15T19:28:22.926067",
     "exception": false,
     "start_time": "2024-11-15T19:28:22.904818",
     "status": "completed"
    },
    "tags": []
   },
   "outputs": [
    {
     "name": "stdout",
     "output_type": "stream",
     "text": [
      " - DB CALL: list_tables\n"
     ]
    },
    {
     "data": {
      "text/plain": [
       "['products', 'sqlite_sequence', 'staff', 'orders']"
      ]
     },
     "execution_count": 7,
     "metadata": {},
     "output_type": "execute_result"
    }
   ],
   "source": [
    "def list_tables() -> list[str]:\n",
    "    \"\"\"Retrieve the names of all tables in the database.\"\"\"\n",
    "    # Include print logging statements so you can see when functions are being called.\n",
    "    print(' - DB CALL: list_tables')\n",
    "\n",
    "    cursor = db_conn.cursor()\n",
    "\n",
    "    # Fetch the table names.\n",
    "    cursor.execute(\"SELECT name FROM sqlite_master WHERE type='table';\")\n",
    "\n",
    "    tables = cursor.fetchall()\n",
    "    return [t[0] for t in tables]\n",
    "\n",
    "\n",
    "list_tables()"
   ]
  },
  {
   "cell_type": "code",
   "execution_count": 8,
   "id": "af045c7a",
   "metadata": {
    "execution": {
     "iopub.execute_input": "2024-11-15T19:28:22.942904Z",
     "iopub.status.busy": "2024-11-15T19:28:22.942454Z",
     "iopub.status.idle": "2024-11-15T19:28:22.953343Z",
     "shell.execute_reply": "2024-11-15T19:28:22.952022Z"
    },
    "papermill": {
     "duration": 0.022269,
     "end_time": "2024-11-15T19:28:22.955788",
     "exception": false,
     "start_time": "2024-11-15T19:28:22.933519",
     "status": "completed"
    },
    "tags": []
   },
   "outputs": [
    {
     "name": "stdout",
     "output_type": "stream",
     "text": [
      " - DB CALL: describe_table\n"
     ]
    },
    {
     "data": {
      "text/plain": [
       "[('product_id', 'INTEGER'),\n",
       " ('product_name', 'VARCHAR(255)'),\n",
       " ('price', 'DECIMAL(10, 2)')]"
      ]
     },
     "execution_count": 8,
     "metadata": {},
     "output_type": "execute_result"
    }
   ],
   "source": [
    "def describe_table(table_name: str) -> list[tuple[str, str]]:\n",
    "    \"\"\"Look up the table schema.\n",
    "\n",
    "    Returns:\n",
    "      List of columns, where each entry is a tuple of (column, type).\n",
    "    \"\"\"\n",
    "    print(' - DB CALL: describe_table')\n",
    "\n",
    "    cursor = db_conn.cursor()\n",
    "\n",
    "    cursor.execute(f\"PRAGMA table_info({table_name});\")\n",
    "\n",
    "    schema = cursor.fetchall()\n",
    "    # [column index, column name, column type, ...]\n",
    "    return [(col[1], col[2]) for col in schema]\n",
    "\n",
    "\n",
    "describe_table(\"products\")"
   ]
  },
  {
   "cell_type": "code",
   "execution_count": 9,
   "id": "ff651a63",
   "metadata": {
    "execution": {
     "iopub.execute_input": "2024-11-15T19:28:22.973324Z",
     "iopub.status.busy": "2024-11-15T19:28:22.972853Z",
     "iopub.status.idle": "2024-11-15T19:28:22.982993Z",
     "shell.execute_reply": "2024-11-15T19:28:22.981877Z"
    },
    "papermill": {
     "duration": 0.021942,
     "end_time": "2024-11-15T19:28:22.985598",
     "exception": false,
     "start_time": "2024-11-15T19:28:22.963656",
     "status": "completed"
    },
    "tags": []
   },
   "outputs": [
    {
     "name": "stdout",
     "output_type": "stream",
     "text": [
      " - DB CALL: execute_query\n"
     ]
    },
    {
     "data": {
      "text/plain": [
       "[(1, 'Laptop', 799.99), (2, 'Keyboard', 129.99), (3, 'Mouse', 29.99)]"
      ]
     },
     "execution_count": 9,
     "metadata": {},
     "output_type": "execute_result"
    }
   ],
   "source": [
    "def execute_query(sql: str) -> list[list[str]]:\n",
    "    \"\"\"Execute a SELECT statement, returning the results.\"\"\"\n",
    "    print(' - DB CALL: execute_query')\n",
    "\n",
    "    cursor = db_conn.cursor()\n",
    "\n",
    "    cursor.execute(sql)\n",
    "    return cursor.fetchall()\n",
    "\n",
    "\n",
    "execute_query(\"select * from products\")"
   ]
  },
  {
   "cell_type": "markdown",
   "id": "37983ded",
   "metadata": {
    "papermill": {
     "duration": 0.007824,
     "end_time": "2024-11-15T19:28:23.001549",
     "exception": false,
     "start_time": "2024-11-15T19:28:22.993725",
     "status": "completed"
    },
    "tags": []
   },
   "source": [
    "# Implement function calls¶\n",
    "\n",
    "Now you can put it all together in a call to the Gemini API.\n",
    "\n",
    "Function calling works by adding specific messages to a chat session. When function schemas are defined and made available to the model and a conversation is started, instead of returning a text response, the model may return a function_call instead. When this happens, the client must respond with a function_response, indicating the result of the call, and the conversation can continue on as normal.\n",
    "\n",
    "This function calling interaction normally happens manually, allowing you, the client, to validate and initiate the call. However the Python SDK also supports automatic function calling, where the supplied functions will be automatically invoked. This is a powerful feature and should only be exposed when it is safe to do so, such as when the functions have no side-effects).\n",
    "\n",
    "Here's the state diagram representing the conversation flow with function calling. With automatic function calling, the bottom row is executed automatically by the Python SDK. In manual function calling, you write the code to run each step individually.\n",
    "\n",
    "function calling state diagram\n"
   ]
  },
  {
   "cell_type": "code",
   "execution_count": 10,
   "id": "e10c60c8",
   "metadata": {
    "execution": {
     "iopub.execute_input": "2024-11-15T19:28:23.019217Z",
     "iopub.status.busy": "2024-11-15T19:28:23.018805Z",
     "iopub.status.idle": "2024-11-15T19:28:23.202721Z",
     "shell.execute_reply": "2024-11-15T19:28:23.201587Z"
    },
    "papermill": {
     "duration": 0.195949,
     "end_time": "2024-11-15T19:28:23.205442",
     "exception": false,
     "start_time": "2024-11-15T19:28:23.009493",
     "status": "completed"
    },
    "tags": []
   },
   "outputs": [],
   "source": [
    "# These are the Python functions defined above.\n",
    "db_tools = [list_tables, describe_table, execute_query]\n",
    "\n",
    "instruction = \"\"\"You are a helpful chatbot that can interact with an SQL database for a computer\n",
    "store. You will take the users questions and turn them into SQL queries using the tools\n",
    "available. Once you have the information you need, you will answer the user's question using\n",
    "the data returned. Use list_tables to see what tables are present, describe_table to understand\n",
    "the schema, and execute_query to issue an SQL SELECT query.\"\"\"\n",
    "\n",
    "model = genai.GenerativeModel(\n",
    "    \"models/gemini-1.5-flash-latest\", tools=db_tools, system_instruction=instruction\n",
    ")\n",
    "\n",
    "# Define a retry policy. The model might make multiple consecutive calls automatically\n",
    "# for a complex query, this ensures the client retries if it hits quota limits.\n",
    "from google.api_core import retry\n",
    "\n",
    "retry_policy = {\"retry\": retry.Retry(predicate=retry.if_transient_error)}\n",
    "\n",
    "# Start a chat with automatic function calling enabled.\n",
    "chat = model.start_chat(enable_automatic_function_calling=True)"
   ]
  },
  {
   "cell_type": "code",
   "execution_count": 11,
   "id": "9f4d17da",
   "metadata": {
    "execution": {
     "iopub.execute_input": "2024-11-15T19:28:23.223194Z",
     "iopub.status.busy": "2024-11-15T19:28:23.222764Z",
     "iopub.status.idle": "2024-11-15T19:28:47.790647Z",
     "shell.execute_reply": "2024-11-15T19:28:47.789464Z"
    },
    "papermill": {
     "duration": 24.579783,
     "end_time": "2024-11-15T19:28:47.793299",
     "exception": false,
     "start_time": "2024-11-15T19:28:23.213516",
     "status": "completed"
    },
    "tags": []
   },
   "outputs": [
    {
     "name": "stdout",
     "output_type": "stream",
     "text": [
      " - DB CALL: list_tables\n",
      " - DB CALL: describe_table\n",
      " - DB CALL: execute_query\n",
      "The cheapest product is the Mouse, costing $29.99.\n",
      "\n"
     ]
    }
   ],
   "source": [
    "resp = chat.send_message(\"What is the cheapest product?\", request_options=retry_policy)\n",
    "print(resp.text)"
   ]
  },
  {
   "cell_type": "code",
   "execution_count": 12,
   "id": "f264e9a2",
   "metadata": {
    "execution": {
     "iopub.execute_input": "2024-11-15T19:28:47.812376Z",
     "iopub.status.busy": "2024-11-15T19:28:47.811905Z",
     "iopub.status.idle": "2024-11-15T19:28:50.442845Z",
     "shell.execute_reply": "2024-11-15T19:28:50.441495Z"
    },
    "papermill": {
     "duration": 2.643949,
     "end_time": "2024-11-15T19:28:50.445919",
     "exception": false,
     "start_time": "2024-11-15T19:28:47.801970",
     "status": "completed"
    },
    "tags": []
   },
   "outputs": [
    {
     "name": "stdout",
     "output_type": "stream",
     "text": [
      "The Mouse costs $29.99.\n",
      "\n"
     ]
    }
   ],
   "source": [
    "resp = chat.send_message(\"and how much is it?\", request_options=retry_policy)\n",
    "print(resp.text)"
   ]
  },
  {
   "cell_type": "code",
   "execution_count": 13,
   "id": "b60ab00b",
   "metadata": {
    "execution": {
     "iopub.execute_input": "2024-11-15T19:28:50.465854Z",
     "iopub.status.busy": "2024-11-15T19:28:50.465418Z",
     "iopub.status.idle": "2024-11-15T19:30:29.372956Z",
     "shell.execute_reply": "2024-11-15T19:30:29.371808Z"
    },
    "papermill": {
     "duration": 98.928948,
     "end_time": "2024-11-15T19:30:29.384304",
     "exception": false,
     "start_time": "2024-11-15T19:28:50.455356",
     "status": "completed"
    },
    "tags": []
   },
   "outputs": [
    {
     "name": "stdout",
     "output_type": "stream",
     "text": [
      " - DB CALL: list_tables\n",
      " - DB CALL: describe_table\n",
      " - DB CALL: describe_table\n",
      " - DB CALL: describe_table\n",
      " - DB CALL: execute_query\n",
      "Alice Smith sold the cheapest product.\n"
     ]
    }
   ],
   "source": [
    "model = genai.GenerativeModel(\n",
    "    \"models/gemini-1.5-pro-latest\", tools=db_tools, system_instruction=instruction\n",
    ")\n",
    "\n",
    "chat = model.start_chat(enable_automatic_function_calling=True)\n",
    "response = chat.send_message('Which salesperson sold the cheapest product?', request_options=retry_policy)\n",
    "print(response.text)"
   ]
  },
  {
   "cell_type": "markdown",
   "id": "80b74299",
   "metadata": {
    "papermill": {
     "duration": 0.008678,
     "end_time": "2024-11-15T19:30:29.401858",
     "exception": false,
     "start_time": "2024-11-15T19:30:29.393180",
     "status": "completed"
    },
    "tags": []
   },
   "source": [
    "# Inspecting the conversation¶\n",
    "\n",
    "To see the calls that the model makes, and what the client returns in response, you can inspect chat.history. This helper function will print out each turn along with the relevant fields passed or returned.\n"
   ]
  },
  {
   "cell_type": "code",
   "execution_count": 14,
   "id": "1973c20a",
   "metadata": {
    "execution": {
     "iopub.execute_input": "2024-11-15T19:30:29.422110Z",
     "iopub.status.busy": "2024-11-15T19:30:29.421234Z",
     "iopub.status.idle": "2024-11-15T19:30:29.432565Z",
     "shell.execute_reply": "2024-11-15T19:30:29.431330Z"
    },
    "papermill": {
     "duration": 0.025212,
     "end_time": "2024-11-15T19:30:29.436127",
     "exception": false,
     "start_time": "2024-11-15T19:30:29.410915",
     "status": "completed"
    },
    "tags": []
   },
   "outputs": [
    {
     "name": "stdout",
     "output_type": "stream",
     "text": [
      "User:\n",
      "  \"Which salesperson sold the cheapest product?\"\n",
      "\n",
      "Model:\n",
      "  Function call: list_tables()\n",
      "\n",
      "User:\n",
      "  Function response:\n",
      "    name: \"list_tables\"\n",
      "    response {\n",
      "      fields {\n",
      "        key: \"result\"\n",
      "        value {\n",
      "          list_value {\n",
      "            values {\n",
      "              string_value: \"products\"\n",
      "            }\n",
      "            values {\n",
      "              string_value: \"sqlite_sequence\"\n",
      "            }\n",
      "            values {\n",
      "              string_value: \"staff\"\n",
      "            }\n",
      "            values {\n",
      "              string_value: \"orders\"\n",
      "            }\n",
      "          }\n",
      "        }\n",
      "      }\n",
      "    }\n",
      "\n",
      "\n",
      "Model:\n",
      "  Function call: describe_table(table_name=products)\n",
      "\n",
      "User:\n",
      "  Function response:\n",
      "    name: \"describe_table\"\n",
      "    response {\n",
      "      fields {\n",
      "        key: \"result\"\n",
      "        value {\n",
      "          list_value {\n",
      "            values {\n",
      "              list_value {\n",
      "                values {\n",
      "                  string_value: \"product_id\"\n",
      "                }\n",
      "                values {\n",
      "                  string_value: \"INTEGER\"\n",
      "                }\n",
      "              }\n",
      "            }\n",
      "            values {\n",
      "              list_value {\n",
      "                values {\n",
      "                  string_value: \"product_name\"\n",
      "                }\n",
      "                values {\n",
      "                  string_value: \"VARCHAR(255)\"\n",
      "                }\n",
      "              }\n",
      "            }\n",
      "            values {\n",
      "              list_value {\n",
      "                values {\n",
      "                  string_value: \"price\"\n",
      "                }\n",
      "                values {\n",
      "                  string_value: \"DECIMAL(10, 2)\"\n",
      "                }\n",
      "              }\n",
      "            }\n",
      "          }\n",
      "        }\n",
      "      }\n",
      "    }\n",
      "\n",
      "\n",
      "Model:\n",
      "  Function call: describe_table(table_name=staff)\n",
      "\n",
      "User:\n",
      "  Function response:\n",
      "    name: \"describe_table\"\n",
      "    response {\n",
      "      fields {\n",
      "        key: \"result\"\n",
      "        value {\n",
      "          list_value {\n",
      "            values {\n",
      "              list_value {\n",
      "                values {\n",
      "                  string_value: \"staff_id\"\n",
      "                }\n",
      "                values {\n",
      "                  string_value: \"INTEGER\"\n",
      "                }\n",
      "              }\n",
      "            }\n",
      "            values {\n",
      "              list_value {\n",
      "                values {\n",
      "                  string_value: \"first_name\"\n",
      "                }\n",
      "                values {\n",
      "                  string_value: \"VARCHAR(255)\"\n",
      "                }\n",
      "              }\n",
      "            }\n",
      "            values {\n",
      "              list_value {\n",
      "                values {\n",
      "                  string_value: \"last_name\"\n",
      "                }\n",
      "                values {\n",
      "                  string_value: \"VARCHAR(255)\"\n",
      "                }\n",
      "              }\n",
      "            }\n",
      "          }\n",
      "        }\n",
      "      }\n",
      "    }\n",
      "\n",
      "\n",
      "Model:\n",
      "  Function call: describe_table(table_name=orders)\n",
      "\n",
      "User:\n",
      "  Function response:\n",
      "    name: \"describe_table\"\n",
      "    response {\n",
      "      fields {\n",
      "        key: \"result\"\n",
      "        value {\n",
      "          list_value {\n",
      "            values {\n",
      "              list_value {\n",
      "                values {\n",
      "                  string_value: \"order_id\"\n",
      "                }\n",
      "                values {\n",
      "                  string_value: \"INTEGER\"\n",
      "                }\n",
      "              }\n",
      "            }\n",
      "            values {\n",
      "              list_value {\n",
      "                values {\n",
      "                  string_value: \"customer_name\"\n",
      "                }\n",
      "                values {\n",
      "                  string_value: \"VARCHAR(255)\"\n",
      "                }\n",
      "              }\n",
      "            }\n",
      "            values {\n",
      "              list_value {\n",
      "                values {\n",
      "                  string_value: \"staff_id\"\n",
      "                }\n",
      "                values {\n",
      "                  string_value: \"INTEGER\"\n",
      "                }\n",
      "              }\n",
      "            }\n",
      "            values {\n",
      "              list_value {\n",
      "                values {\n",
      "                  string_value: \"product_id\"\n",
      "                }\n",
      "                values {\n",
      "                  string_value: \"INTEGER\"\n",
      "                }\n",
      "              }\n",
      "            }\n",
      "          }\n",
      "        }\n",
      "      }\n",
      "    }\n",
      "\n",
      "\n",
      "Model:\n",
      "  Function call: execute_query(sql=SELECT staff.first_name, staff.last_name FROM staff INNER JOIN orders ON staff.staff_id = orders.staff_id INNER JOIN products ON orders.product_id = products.product_id ORDER BY products.price ASC LIMIT 1)\n",
      "\n",
      "User:\n",
      "  Function response:\n",
      "    name: \"execute_query\"\n",
      "    response {\n",
      "      fields {\n",
      "        key: \"result\"\n",
      "        value {\n",
      "          list_value {\n",
      "            values {\n",
      "              list_value {\n",
      "                values {\n",
      "                  string_value: \"Alice\"\n",
      "                }\n",
      "                values {\n",
      "                  string_value: \"Smith\"\n",
      "                }\n",
      "              }\n",
      "            }\n",
      "          }\n",
      "        }\n",
      "      }\n",
      "    }\n",
      "\n",
      "\n",
      "Model:\n",
      "  \"Alice Smith sold the cheapest product.\"\n",
      "\n"
     ]
    }
   ],
   "source": [
    "import textwrap\n",
    "\n",
    "\n",
    "def print_chat_turns(chat):\n",
    "    \"\"\"Prints out each turn in the chat history, including function calls and responses.\"\"\"\n",
    "    for event in chat.history:\n",
    "        print(f\"{event.role.capitalize()}:\")\n",
    "\n",
    "        for part in event.parts:\n",
    "            if txt := part.text:\n",
    "                print(f'  \"{txt}\"')\n",
    "            elif fn := part.function_call:\n",
    "                args = \", \".join(f\"{key}={val}\" for key, val in fn.args.items())\n",
    "                print(f\"  Function call: {fn.name}({args})\")\n",
    "            elif resp := part.function_response:\n",
    "                print(\"  Function response:\")\n",
    "                print(textwrap.indent(str(resp), \"    \"))\n",
    "\n",
    "        print()\n",
    "\n",
    "\n",
    "print_chat_turns(chat)"
   ]
  },
  {
   "cell_type": "code",
   "execution_count": null,
   "id": "e56e2559",
   "metadata": {
    "papermill": {
     "duration": 0.008854,
     "end_time": "2024-11-15T19:30:29.454547",
     "exception": false,
     "start_time": "2024-11-15T19:30:29.445693",
     "status": "completed"
    },
    "tags": []
   },
   "outputs": [],
   "source": []
  }
 ],
 "metadata": {
  "kaggle": {
   "accelerator": "none",
   "dataSources": [],
   "dockerImageVersionId": 30786,
   "isGpuEnabled": false,
   "isInternetEnabled": true,
   "language": "python",
   "sourceType": "notebook"
  },
  "kernelspec": {
   "display_name": "Python 3",
   "language": "python",
   "name": "python3"
  },
  "language_info": {
   "codemirror_mode": {
    "name": "ipython",
    "version": 3
   },
   "file_extension": ".py",
   "mimetype": "text/x-python",
   "name": "python",
   "nbconvert_exporter": "python",
   "pygments_lexer": "ipython3",
   "version": "3.10.14"
  },
  "papermill": {
   "default_parameters": {},
   "duration": 163.036361,
   "end_time": "2024-11-15T19:30:30.185899",
   "environment_variables": {},
   "exception": null,
   "input_path": "__notebook__.ipynb",
   "output_path": "__notebook__.ipynb",
   "parameters": {},
   "start_time": "2024-11-15T19:27:47.149538",
   "version": "2.6.0"
  }
 },
 "nbformat": 4,
 "nbformat_minor": 5
}
